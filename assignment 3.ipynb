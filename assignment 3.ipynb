{
 "cells": [
  {
   "cell_type": "markdown",
   "id": "dddc4219-e891-4be5-bbe1-5ed29a80e994",
   "metadata": {},
   "source": [
    "QOUESTION 1\n",
    "\n",
    "def is used to create a function."
   ]
  },
  {
   "cell_type": "code",
   "execution_count": 1,
   "id": "b1e21397-d6d7-4cc8-9f8d-47174d26317b",
   "metadata": {},
   "outputs": [],
   "source": [
    "l=list(range(1,26))\n"
   ]
  },
  {
   "cell_type": "code",
   "execution_count": 2,
   "id": "fe86f2e6-e094-45ce-886f-bba34b1db2db",
   "metadata": {},
   "outputs": [],
   "source": [
    "def odd_no(l):\n",
    "    l1=[]\n",
    "    for i in l:\n",
    "        if i%2 !=0:\n",
    "            l1.append(i)\n",
    "    return(l1)"
   ]
  },
  {
   "cell_type": "code",
   "execution_count": 3,
   "id": "10496114-884e-4826-a06c-0a6364243a3b",
   "metadata": {},
   "outputs": [
    {
     "data": {
      "text/plain": [
       "[1, 3, 5, 7, 9, 11, 13, 15, 17, 19, 21, 23, 25]"
      ]
     },
     "execution_count": 3,
     "metadata": {},
     "output_type": "execute_result"
    }
   ],
   "source": [
    "odd_no(l)"
   ]
  },
  {
   "cell_type": "markdown",
   "id": "5641455b-1263-4a68-bfb0-acb0ae140dca",
   "metadata": {},
   "source": [
    "QUESTION 2\n",
    "\n",
    "\n",
    "*args allows user to input n no. data/elememts in the form of a tuple while **krags also allows user to input n no. data/elememts but  in the form of dictionary.\n",
    "Let us explain by an example:-\n",
    "\n",
    "\n"
   ]
  },
  {
   "cell_type": "code",
   "execution_count": 4,
   "id": "e3033196-0faf-468d-bf78-38a80e514b19",
   "metadata": {},
   "outputs": [],
   "source": [
    "def test(*args ):\n",
    "    return args"
   ]
  },
  {
   "cell_type": "code",
   "execution_count": 25,
   "id": "c69f01bd-8694-422d-a19f-b9eb6d7a3669",
   "metadata": {},
   "outputs": [
    {
     "data": {
      "text/plain": [
       "('samad', 'pwskills', 34, 454, 53, 64, 6.6)"
      ]
     },
     "execution_count": 25,
     "metadata": {},
     "output_type": "execute_result"
    }
   ],
   "source": [
    "test(\"samad\",\"pwskills\",34,454,53,64,6.6)"
   ]
  },
  {
   "cell_type": "code",
   "execution_count": 6,
   "id": "db298c46-f45a-4b17-94af-9edbe63bb650",
   "metadata": {},
   "outputs": [],
   "source": [
    "def test1(**kwargs):\n",
    "    return kwargs"
   ]
  },
  {
   "cell_type": "code",
   "execution_count": 7,
   "id": "a4324783-7220-4699-b023-420ece7b452e",
   "metadata": {},
   "outputs": [
    {
     "data": {
      "text/plain": [
       "{'a': 'chauhan', 'b': [334.56, 6, 786, 98], 'c': True}"
      ]
     },
     "execution_count": 7,
     "metadata": {},
     "output_type": "execute_result"
    }
   ],
   "source": [
    "test1(a=\"chauhan\", b=[334.56,6,786,98] ,c=True)"
   ]
  },
  {
   "cell_type": "markdown",
   "id": "b610505b-1cfb-4b69-8c72-828e5d8f3c23",
   "metadata": {},
   "source": [
    "QUESTION 3 \n",
    "\n",
    "Iterator is that type of data in which we can extract consecutive data by using next function .\n",
    "\n",
    "In Python, the method used to initialize an iterator object is called __iter__(), and the method used for iteration is called __next__().\n",
    "\n",
    "\n",
    "\n",
    "\n",
    "\n"
   ]
  },
  {
   "cell_type": "code",
   "execution_count": 8,
   "id": "b17f894a-f39b-439c-a3e0-874b8ae5ddb1",
   "metadata": {},
   "outputs": [],
   "source": [
    "given_list = [2, 4, 6, 8, 10, 12, 14,16,18,20]\n",
    "# since list is not an iterator first we change it to iterator.\n"
   ]
  },
  {
   "cell_type": "code",
   "execution_count": 9,
   "id": "b5cb09a1-38e8-4409-b084-daf11236de3e",
   "metadata": {},
   "outputs": [],
   "source": [
    "ch_given_list=iter(given_list)"
   ]
  },
  {
   "cell_type": "code",
   "execution_count": 10,
   "id": "8a39d6a0-c108-40fb-ae15-2ea1bbdc8e09",
   "metadata": {},
   "outputs": [
    {
     "name": "stdout",
     "output_type": "stream",
     "text": [
      "2\n",
      "4\n",
      "6\n",
      "8\n",
      "10\n"
     ]
    }
   ],
   "source": [
    "print(next(ch_given_list))\n",
    "print(next(ch_given_list))\n",
    "print(next(ch_given_list))\n",
    "print(next(ch_given_list))\n",
    "print(next(ch_given_list))\n",
    "\n",
    "\n"
   ]
  },
  {
   "cell_type": "markdown",
   "id": "8ec5b6a7-abb4-4deb-aae4-385726ad218e",
   "metadata": {},
   "source": [
    "QUESTION 4\n",
    "\n",
    "In Python, a generator is a function that returns an iterator that produces a sequence of values when iterated over. Generators are useful when we want to produce a large sequence of values, but we don't want to store all of them in memory at once.\n",
    "\n",
    "The yield keyword will convert an expression that is specified along with it to a generator iterator, and return it to the caller.\n",
    "\n",
    "\n",
    "\n"
   ]
  },
  {
   "cell_type": "code",
   "execution_count": 11,
   "id": "1cbb8848-9af7-4b36-98ac-db10b6f9358a",
   "metadata": {},
   "outputs": [],
   "source": [
    "def gen(n):\n",
    "    count=0\n",
    "    while count<n:\n",
    "        yield count\n",
    "        count += 1"
   ]
  },
  {
   "cell_type": "code",
   "execution_count": 12,
   "id": "724de470-e983-4729-96b8-bca12e5819d7",
   "metadata": {},
   "outputs": [
    {
     "data": {
      "text/plain": [
       "[0, 1, 2, 3, 4, 5, 6, 7, 8, 9, 10, 11, 12, 13]"
      ]
     },
     "execution_count": 12,
     "metadata": {},
     "output_type": "execute_result"
    }
   ],
   "source": [
    "list(gen(14))"
   ]
  },
  {
   "cell_type": "code",
   "execution_count": 22,
   "id": "06773258-f8a9-4470-8fce-b8aaf20f59c1",
   "metadata": {},
   "outputs": [],
   "source": [
    "## QUESTION 5\n",
    "\n",
    "def gen(n):\n",
    "    count=1\n",
    "    while count<=1000 :\n",
    "        yield count\n",
    "        count += 1\n",
    "\n"
   ]
  },
  {
   "cell_type": "code",
   "execution_count": null,
   "id": "6a9941de-4037-4096-b388-e96e2c3cc6a8",
   "metadata": {},
   "outputs": [],
   "source": []
  },
  {
   "cell_type": "code",
   "execution_count": 14,
   "id": "ebe853ce-db88-424e-809a-cf51a8c98c09",
   "metadata": {},
   "outputs": [],
   "source": [
    "## QUESTION 6\n",
    "def test_fib():\n",
    "    a,b=0,1\n",
    "    while True :\n",
    "        yield a\n",
    "        a,b=b,a+b\n",
    "\n"
   ]
  },
  {
   "cell_type": "code",
   "execution_count": 15,
   "id": "7b510143-252b-41dd-ae65-a9089694fb6c",
   "metadata": {},
   "outputs": [],
   "source": [
    "fib=test_fib()"
   ]
  },
  {
   "cell_type": "code",
   "execution_count": 16,
   "id": "9228aa15-58b9-4141-8157-cecdf1032d1e",
   "metadata": {},
   "outputs": [
    {
     "name": "stdout",
     "output_type": "stream",
     "text": [
      "0\n",
      "1\n",
      "1\n",
      "2\n",
      "3\n",
      "5\n",
      "8\n",
      "13\n",
      "21\n",
      "34\n"
     ]
    }
   ],
   "source": [
    "for i in range(10):\n",
    "    print(next(fib))"
   ]
  },
  {
   "cell_type": "code",
   "execution_count": 17,
   "id": "176b847f-d67d-4075-a834-e926df7934e2",
   "metadata": {},
   "outputs": [],
   "source": [
    "## QUESTION 7\n",
    "s=\"pwskills\""
   ]
  },
  {
   "cell_type": "code",
   "execution_count": 18,
   "id": "1aaa54cf-8e03-4ce7-b008-fcd6a4428d46",
   "metadata": {},
   "outputs": [
    {
     "data": {
      "text/plain": [
       "['p', 'w', 's', 'k', 'i', 'l', 'l', 's']"
      ]
     },
     "execution_count": 18,
     "metadata": {},
     "output_type": "execute_result"
    }
   ],
   "source": [
    "list(map(lambda x:x,s))"
   ]
  },
  {
   "cell_type": "code",
   "execution_count": 19,
   "id": "0bdc3016-314d-4d79-b477-1de32bdf3a23",
   "metadata": {},
   "outputs": [],
   "source": [
    "l3=list(range(1,101))"
   ]
  },
  {
   "cell_type": "code",
   "execution_count": 20,
   "id": "262307f8-c6c1-45d1-aa52-f4bcb150e3ce",
   "metadata": {},
   "outputs": [
    {
     "data": {
      "text/plain": [
       "[1,\n",
       " 3,\n",
       " 5,\n",
       " 7,\n",
       " 9,\n",
       " 11,\n",
       " 13,\n",
       " 15,\n",
       " 17,\n",
       " 19,\n",
       " 21,\n",
       " 23,\n",
       " 25,\n",
       " 27,\n",
       " 29,\n",
       " 31,\n",
       " 33,\n",
       " 35,\n",
       " 37,\n",
       " 39,\n",
       " 41,\n",
       " 43,\n",
       " 45,\n",
       " 47,\n",
       " 49,\n",
       " 51,\n",
       " 53,\n",
       " 55,\n",
       " 57,\n",
       " 59,\n",
       " 61,\n",
       " 63,\n",
       " 65,\n",
       " 67,\n",
       " 69,\n",
       " 71,\n",
       " 73,\n",
       " 75,\n",
       " 77,\n",
       " 79,\n",
       " 81,\n",
       " 83,\n",
       " 85,\n",
       " 87,\n",
       " 89,\n",
       " 91,\n",
       " 93,\n",
       " 95,\n",
       " 97,\n",
       " 99]"
      ]
     },
     "execution_count": 20,
     "metadata": {},
     "output_type": "execute_result"
    }
   ],
   "source": [
    "## QUESTION 9\n",
    "\n",
    "list(filter(lambda x: x%2!=0 ,l3))\n"
   ]
  },
  {
   "cell_type": "code",
   "execution_count": null,
   "id": "f34a57f9-c8d9-45ee-870f-46e71a4035b3",
   "metadata": {},
   "outputs": [],
   "source": []
  },
  {
   "cell_type": "code",
   "execution_count": null,
   "id": "5bbc911f-3e9e-44e9-a715-6677ba6641a6",
   "metadata": {},
   "outputs": [],
   "source": []
  },
  {
   "cell_type": "code",
   "execution_count": null,
   "id": "fe2fff06-df6e-4da5-85e0-f95aa3f2cd4b",
   "metadata": {},
   "outputs": [],
   "source": []
  },
  {
   "cell_type": "code",
   "execution_count": null,
   "id": "8c9997c6-ec58-47d7-85f8-820c7925e77c",
   "metadata": {},
   "outputs": [],
   "source": []
  },
  {
   "cell_type": "code",
   "execution_count": null,
   "id": "874defbf-ce07-4026-8404-579bfa0a8997",
   "metadata": {},
   "outputs": [],
   "source": []
  }
 ],
 "metadata": {
  "kernelspec": {
   "display_name": "Python 3 (ipykernel)",
   "language": "python",
   "name": "python3"
  },
  "language_info": {
   "codemirror_mode": {
    "name": "ipython",
    "version": 3
   },
   "file_extension": ".py",
   "mimetype": "text/x-python",
   "name": "python",
   "nbconvert_exporter": "python",
   "pygments_lexer": "ipython3",
   "version": "3.10.8"
  }
 },
 "nbformat": 4,
 "nbformat_minor": 5
}
